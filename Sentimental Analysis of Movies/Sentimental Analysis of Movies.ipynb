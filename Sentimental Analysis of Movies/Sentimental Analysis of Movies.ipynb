{
 "cells": [
  {
   "cell_type": "code",
   "execution_count": 11,
   "metadata": {},
   "outputs": [
    {
     "name": "stdout",
     "output_type": "stream",
     "text": [
      "PhraseId      156060\n",
      "SentenceId    156060\n",
      "Phrase        156060\n",
      "Sentiment     156060\n",
      "dtype: int64\n"
     ]
    }
   ],
   "source": [
    "import pandas as pd\n",
    "movie=pd.read_csv(\"C:\\\\Users\\\\user\\\\Desktop\\\\datas\\\\train.tsv\",header=0,delimiter='\\t')\n",
    "movie.head\n",
    "print(movie.countnt())"
   ]
  },
  {
   "cell_type": "code",
   "execution_count": 13,
   "metadata": {},
   "outputs": [
    {
     "name": "stdout",
     "output_type": "stream",
     "text": [
      "[1 2 3 4 0]\n"
     ]
    }
   ],
   "source": [
    "print(movie.Sentiment.unique())"
   ]
  },
  {
   "cell_type": "code",
   "execution_count": 15,
   "metadata": {},
   "outputs": [
    {
     "name": "stdout",
     "output_type": "stream",
     "text": [
      "2    79582\n",
      "3    32927\n",
      "1    27273\n",
      "4     9206\n",
      "0     7072\n",
      "Name: Sentiment, dtype: int64\n"
     ]
    }
   ],
   "source": [
    "print(movie['Sentiment'].value_counts())"
   ]
  },
  {
   "cell_type": "code",
   "execution_count": 17,
   "metadata": {},
   "outputs": [
    {
     "name": "stdout",
     "output_type": "stream",
     "text": [
      "2    50.994489\n",
      "3    21.098936\n",
      "1    17.475971\n",
      "4     5.899013\n",
      "0     4.531590\n",
      "Name: Sentiment, dtype: float64\n"
     ]
    }
   ],
   "source": [
    "print(movie['Sentiment'].value_counts()/movie['Sentiment'].count()*100)\n"
   ]
  },
  {
   "cell_type": "code",
   "execution_count": 18,
   "metadata": {},
   "outputs": [],
   "source": [
    "from sklearn.feature_extraction.text import TfidfVectorizer\n",
    "from sklearn.linear_model.logistic import LogisticRegression\n",
    "\n",
    "from sklearn.model_selection import GridSearchCV\n",
    "from sklearn.model_selection import train_test_split\n",
    "from sklearn.metrics import precision_score,recall_score\n",
    "from sklearn.metrics import accuracy_score,f1_score\n",
    "from sklearn.preprocessing import LabelBinarizer\n",
    "from sklearn.pipeline import Pipeline\n",
    "from sklearn.metrics import confusion_matrix\n",
    "from sklearn.metrics import classification_report"
   ]
  },
  {
   "cell_type": "code",
   "execution_count": 22,
   "metadata": {},
   "outputs": [
    {
     "name": "stdout",
     "output_type": "stream",
     "text": [
      "Fitting 3 folds for each of 24 candidates, totalling 72 fits\n"
     ]
    },
    {
     "name": "stderr",
     "output_type": "stream",
     "text": [
      "[Parallel(n_jobs=-1)]: Using backend LokyBackend with 4 concurrent workers.\n",
      "[Parallel(n_jobs=-1)]: Done  42 tasks      | elapsed:  3.4min\n",
      "[Parallel(n_jobs=-1)]: Done  72 out of  72 | elapsed:  6.5min finished\n",
      "C:\\ProgramData\\Anaconda3\\lib\\site-packages\\sklearn\\linear_model\\_logistic.py:762: ConvergenceWarning: lbfgs failed to converge (status=1):\n",
      "STOP: TOTAL NO. of ITERATIONS REACHED LIMIT.\n",
      "\n",
      "Increase the number of iterations (max_iter) or scale the data as shown in:\n",
      "    https://scikit-learn.org/stable/modules/preprocessing.html\n",
      "Please also refer to the documentation for alternative solver options:\n",
      "    https://scikit-learn.org/stable/modules/linear_model.html#logistic-regression\n",
      "  n_iter_i = _check_optimize_result(\n"
     ]
    },
    {
     "name": "stdout",
     "output_type": "stream",
     "text": [
      "Best score : 0.612\n",
      "best parameters set :\n",
      "\t clf__C : 10 \n",
      "\t vect__max_df : 0.25 \n",
      "\t vect__ngram_range : (1, 2) \n",
      "\t vect__use_idf : False \n",
      "Accuracy: 0.6261181596821735\n",
      "Confusion matrix : [[ 1045  1659   718    83    13]\n",
      " [  812  5638  6518   598    55]\n",
      " [  206  3133 32866  3351   193]\n",
      " [   30   512  6985  7670  1299]\n",
      " [    4    64   604  2337  1637]]\n",
      "classification report:               precision    recall  f1-score   support\n",
      "\n",
      "           0       0.50      0.30      0.37      3518\n",
      "           1       0.51      0.41      0.46     13621\n",
      "           2       0.69      0.83      0.75     39749\n",
      "           3       0.55      0.46      0.50     16496\n",
      "           4       0.51      0.35      0.42      4646\n",
      "\n",
      "    accuracy                           0.63     78030\n",
      "   macro avg       0.55      0.47      0.50     78030\n",
      "weighted avg       0.61      0.63      0.61     78030\n",
      "\n"
     ]
    }
   ],
   "source": [
    "def main():\n",
    "    pipeline=Pipeline([\n",
    "                    ('vect',TfidfVectorizer(stop_words='english')),\n",
    "                      ('clf',LogisticRegression())\n",
    "                      ])\n",
    "    parameters={\n",
    "        'vect__max_df':(0.25,0.5),\n",
    "        'vect__ngram_range':((1,1),(1,2)),\n",
    "        'vect__use_idf':(True,False),\n",
    "        'clf__C':(0.1,1,10)\n",
    "    }\n",
    "    X,y=movie['Phrase'],movie['Sentiment']\n",
    "    X_train,X_test,y_train,y_test =train_test_split(X,y,train_size=0.5)\n",
    "    grid_search=GridSearchCV(pipeline,parameters,n_jobs=-1,verbose=1,\n",
    "                            scoring='accuracy',cv=3)\n",
    "    grid_search.fit(X_train,y_train)\n",
    "    print(\"Best score : %0.3f\"%grid_search.best_score_)\n",
    "    print('best parameters set :')\n",
    "    best_parameters=grid_search.best_estimator_.get_params()\n",
    "    for param_name in sorted(parameters.keys()):\n",
    "        print(\"\\t %s : %r \"% (param_name,best_parameters[param_name]))\n",
    "    predictions=grid_search.predict(X_test)\n",
    "    print('Accuracy:',accuracy_score(y_test,predictions))\n",
    "    print(\"Confusion matrix :\",confusion_matrix(y_test,predictions))\n",
    "    print(\"classification report:\",classification_report(y_test,predictions))\n",
    "    \n",
    "    \n",
    "if __name__=='__main__':\n",
    "    main()\n"
   ]
  },
  {
   "cell_type": "code",
   "execution_count": 1,
   "metadata": {},
   "outputs": [],
   "source": [
    "# From this  3518 are supporting class Zero movie, 13621 are supporting class One movie, 39749 are supporting class 2 movie, 16496 are supporting class Three movies and 4646 are supporting class 4 movies \n",
    "\n"
   ]
  }
 ],
 "metadata": {
  "kernelspec": {
   "display_name": "Python 3",
   "language": "python",
   "name": "python3"
  },
  "language_info": {
   "codemirror_mode": {
    "name": "ipython",
    "version": 3
   },
   "file_extension": ".py",
   "mimetype": "text/x-python",
   "name": "python",
   "nbconvert_exporter": "python",
   "pygments_lexer": "ipython3",
   "version": "3.8.3"
  }
 },
 "nbformat": 4,
 "nbformat_minor": 4
}
