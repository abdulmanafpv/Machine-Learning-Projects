{
 "cells": [
  {
   "cell_type": "code",
   "execution_count": 1,
   "metadata": {},
   "outputs": [
    {
     "data": {
      "text/html": [
       "<div>\n",
       "<style scoped>\n",
       "    .dataframe tbody tr th:only-of-type {\n",
       "        vertical-align: middle;\n",
       "    }\n",
       "\n",
       "    .dataframe tbody tr th {\n",
       "        vertical-align: top;\n",
       "    }\n",
       "\n",
       "    .dataframe thead th {\n",
       "        text-align: right;\n",
       "    }\n",
       "</style>\n",
       "<table border=\"1\" class=\"dataframe\">\n",
       "  <thead>\n",
       "    <tr style=\"text-align: right;\">\n",
       "      <th></th>\n",
       "      <th>TV</th>\n",
       "      <th>Radio</th>\n",
       "      <th>Newspaper</th>\n",
       "      <th>Sales</th>\n",
       "    </tr>\n",
       "  </thead>\n",
       "  <tbody>\n",
       "    <tr>\n",
       "      <th>0</th>\n",
       "      <td>230.1</td>\n",
       "      <td>37.8</td>\n",
       "      <td>69.2</td>\n",
       "      <td>22.1</td>\n",
       "    </tr>\n",
       "    <tr>\n",
       "      <th>1</th>\n",
       "      <td>44.5</td>\n",
       "      <td>39.3</td>\n",
       "      <td>45.1</td>\n",
       "      <td>10.4</td>\n",
       "    </tr>\n",
       "    <tr>\n",
       "      <th>2</th>\n",
       "      <td>17.2</td>\n",
       "      <td>45.9</td>\n",
       "      <td>69.3</td>\n",
       "      <td>12.0</td>\n",
       "    </tr>\n",
       "    <tr>\n",
       "      <th>3</th>\n",
       "      <td>151.5</td>\n",
       "      <td>41.3</td>\n",
       "      <td>58.5</td>\n",
       "      <td>16.5</td>\n",
       "    </tr>\n",
       "    <tr>\n",
       "      <th>4</th>\n",
       "      <td>180.8</td>\n",
       "      <td>10.8</td>\n",
       "      <td>58.4</td>\n",
       "      <td>17.9</td>\n",
       "    </tr>\n",
       "  </tbody>\n",
       "</table>\n",
       "</div>"
      ],
      "text/plain": [
       "      TV  Radio  Newspaper  Sales\n",
       "0  230.1   37.8       69.2   22.1\n",
       "1   44.5   39.3       45.1   10.4\n",
       "2   17.2   45.9       69.3   12.0\n",
       "3  151.5   41.3       58.5   16.5\n",
       "4  180.8   10.8       58.4   17.9"
      ]
     },
     "execution_count": 1,
     "metadata": {},
     "output_type": "execute_result"
    }
   ],
   "source": [
    "import pandas as pd\n",
    "advertising = pd.DataFrame(pd.read_csv(\"C:\\\\Users\\\\user\\\\Desktop\\\\project_datas\\\\advertising.csv\"))\n",
    "# print(advertising)\n",
    "advertising.head()"
   ]
  },
  {
   "cell_type": "code",
   "execution_count": 2,
   "metadata": {},
   "outputs": [
    {
     "name": "stdout",
     "output_type": "stream",
     "text": [
      "(200, 4)\n",
      "<class 'pandas.core.frame.DataFrame'>\n",
      "RangeIndex: 200 entries, 0 to 199\n",
      "Data columns (total 4 columns):\n",
      " #   Column     Non-Null Count  Dtype  \n",
      "---  ------     --------------  -----  \n",
      " 0   TV         200 non-null    float64\n",
      " 1   Radio      200 non-null    float64\n",
      " 2   Newspaper  200 non-null    float64\n",
      " 3   Sales      200 non-null    float64\n",
      "dtypes: float64(4)\n",
      "memory usage: 6.4 KB\n"
     ]
    },
    {
     "data": {
      "text/html": [
       "<div>\n",
       "<style scoped>\n",
       "    .dataframe tbody tr th:only-of-type {\n",
       "        vertical-align: middle;\n",
       "    }\n",
       "\n",
       "    .dataframe tbody tr th {\n",
       "        vertical-align: top;\n",
       "    }\n",
       "\n",
       "    .dataframe thead th {\n",
       "        text-align: right;\n",
       "    }\n",
       "</style>\n",
       "<table border=\"1\" class=\"dataframe\">\n",
       "  <thead>\n",
       "    <tr style=\"text-align: right;\">\n",
       "      <th></th>\n",
       "      <th>TV</th>\n",
       "      <th>Radio</th>\n",
       "      <th>Newspaper</th>\n",
       "      <th>Sales</th>\n",
       "    </tr>\n",
       "  </thead>\n",
       "  <tbody>\n",
       "    <tr>\n",
       "      <th>count</th>\n",
       "      <td>200.000000</td>\n",
       "      <td>200.000000</td>\n",
       "      <td>200.000000</td>\n",
       "      <td>200.000000</td>\n",
       "    </tr>\n",
       "    <tr>\n",
       "      <th>mean</th>\n",
       "      <td>147.042500</td>\n",
       "      <td>23.264000</td>\n",
       "      <td>30.554000</td>\n",
       "      <td>15.130500</td>\n",
       "    </tr>\n",
       "    <tr>\n",
       "      <th>std</th>\n",
       "      <td>85.854236</td>\n",
       "      <td>14.846809</td>\n",
       "      <td>21.778621</td>\n",
       "      <td>5.283892</td>\n",
       "    </tr>\n",
       "    <tr>\n",
       "      <th>min</th>\n",
       "      <td>0.700000</td>\n",
       "      <td>0.000000</td>\n",
       "      <td>0.300000</td>\n",
       "      <td>1.600000</td>\n",
       "    </tr>\n",
       "    <tr>\n",
       "      <th>25%</th>\n",
       "      <td>74.375000</td>\n",
       "      <td>9.975000</td>\n",
       "      <td>12.750000</td>\n",
       "      <td>11.000000</td>\n",
       "    </tr>\n",
       "    <tr>\n",
       "      <th>50%</th>\n",
       "      <td>149.750000</td>\n",
       "      <td>22.900000</td>\n",
       "      <td>25.750000</td>\n",
       "      <td>16.000000</td>\n",
       "    </tr>\n",
       "    <tr>\n",
       "      <th>75%</th>\n",
       "      <td>218.825000</td>\n",
       "      <td>36.525000</td>\n",
       "      <td>45.100000</td>\n",
       "      <td>19.050000</td>\n",
       "    </tr>\n",
       "    <tr>\n",
       "      <th>max</th>\n",
       "      <td>296.400000</td>\n",
       "      <td>49.600000</td>\n",
       "      <td>114.000000</td>\n",
       "      <td>27.000000</td>\n",
       "    </tr>\n",
       "  </tbody>\n",
       "</table>\n",
       "</div>"
      ],
      "text/plain": [
       "               TV       Radio   Newspaper       Sales\n",
       "count  200.000000  200.000000  200.000000  200.000000\n",
       "mean   147.042500   23.264000   30.554000   15.130500\n",
       "std     85.854236   14.846809   21.778621    5.283892\n",
       "min      0.700000    0.000000    0.300000    1.600000\n",
       "25%     74.375000    9.975000   12.750000   11.000000\n",
       "50%    149.750000   22.900000   25.750000   16.000000\n",
       "75%    218.825000   36.525000   45.100000   19.050000\n",
       "max    296.400000   49.600000  114.000000   27.000000"
      ]
     },
     "execution_count": 2,
     "metadata": {},
     "output_type": "execute_result"
    }
   ],
   "source": [
    "print(advertising.shape)\n",
    "advertising.info()\n",
    "advertising.describe()"
   ]
  },
  {
   "cell_type": "code",
   "execution_count": 3,
   "metadata": {},
   "outputs": [
    {
     "data": {
      "text/plain": [
       "TV           0.0\n",
       "Radio        0.0\n",
       "Newspaper    0.0\n",
       "Sales        0.0\n",
       "dtype: float64"
      ]
     },
     "execution_count": 3,
     "metadata": {},
     "output_type": "execute_result"
    }
   ],
   "source": [
    "# Data cleaning\n",
    "advertising.isnull().sum()*100/advertising.shape[0]"
   ]
  },
  {
   "cell_type": "code",
   "execution_count": 4,
   "metadata": {},
   "outputs": [
    {
     "data": {
      "image/png": "[encoded data removed]",
      "text/plain": [
       "<Figure size 360x360 with 3 Axes>"
      ]
     },
     "metadata": {
      "needs_background": "light"
     },
     "output_type": "display_data"
    }
   ],
   "source": [
    "# There is no Null values in the Dataset, hence it is clean\n",
    "# outlier Analysis\n",
    "import matplotlib.pyplot as plt\n",
    "import seaborn as sns\n",
    "fig, axs=plt.subplots(3, figsize=(5,5))\n",
    "plt1=sns.boxplot(advertising['TV'], ax=axs[0])\n",
    "plt2=sns.boxplot(advertising['Newspaper'], ax=axs[1])\n",
    "plt3=sns.boxplot(advertising['Radio'], ax=axs[2])\n",
    "plt.tight_layout()\n",
    "\n"
   ]
  },
  {
   "cell_type": "code",
   "execution_count": 5,
   "metadata": {},
   "outputs": [
    {
     "data": {
      "image/png": "[encoded data removed]",
      "text/plain": [
       "<Figure size 432x288 with 1 Axes>"
      ]
     },
     "metadata": {
      "needs_background": "light"
     },
     "output_type": "display_data"
    }
   ],
   "source": [
    "# There are no considerable outliers present in the Data\n",
    "sns.boxplot(advertising['Sales'])\n",
    "plt.show()"
   ]
  },
  {
   "cell_type": "code",
   "execution_count": 6,
   "metadata": {},
   "outputs": [
    {
     "data": {
      "image/png": "[encoded data removed]",
      "text/plain": [
       "<Figure size 864x288 with 3 Axes>"
      ]
     },
     "metadata": {
      "needs_background": "light"
     },
     "output_type": "display_data"
    }
   ],
   "source": [
    "# Let's see how Sales are related with other variables using scatter plot\n",
    "sns.pairplot(advertising, x_vars=['TV','Newspaper','Radio'], y_vars='Sales', height=4, aspect=1, kind='scatter')\n",
    "plt.show()"
   ]
  },
  {
   "cell_type": "code",
   "execution_count": 7,
   "metadata": {},
   "outputs": [
    {
     "name": "stdout",
     "output_type": "stream",
     "text": [
      "0      230.1\n",
      "1       44.5\n",
      "2       17.2\n",
      "3      151.5\n",
      "4      180.8\n",
      "       ...  \n",
      "195     38.2\n",
      "196     94.2\n",
      "197    177.0\n",
      "198    283.6\n",
      "199    232.1\n",
      "Name: TV, Length: 200, dtype: float64\n",
      "0      22.1\n",
      "1      10.4\n",
      "2      12.0\n",
      "3      16.5\n",
      "4      17.9\n",
      "       ... \n",
      "195     7.6\n",
      "196    14.0\n",
      "197    14.8\n",
      "198    25.5\n",
      "199    18.4\n",
      "Name: Sales, Length: 200, dtype: float64\n",
      "1\n",
      "1\n"
     ]
    }
   ],
   "source": [
    "X=advertising['TV']\n",
    "Y=advertising['Sales']\n",
    "print(X)\n",
    "print(Y)\n",
    "print(X.ndim)\n",
    "print(Y.ndim)"
   ]
  },
  {
   "cell_type": "code",
   "execution_count": 8,
   "metadata": {},
   "outputs": [],
   "source": [
    "from sklearn.model_selection import train_test_split\n",
    "X_train,X_test,Y_train,Y_test=train_test_split(X,Y,train_size=0.7,test_size=0.3, random_state=100)"
   ]
  },
  {
   "cell_type": "code",
   "execution_count": 9,
   "metadata": {},
   "outputs": [
    {
     "name": "stdout",
     "output_type": "stream",
     "text": [
      "[[213.4]\n",
      " [151.5]\n",
      " [205. ]\n",
      " [142.9]\n",
      " [134.3]\n",
      " [ 80.2]\n",
      " [239.8]\n",
      " [ 88.3]\n",
      " [ 19.4]\n",
      " [225.8]\n",
      " [136.2]\n",
      " [ 25.1]\n",
      " [ 38. ]\n",
      " [172.5]\n",
      " [109.8]\n",
      " [240.1]\n",
      " [232.1]\n",
      " [ 66.1]\n",
      " [218.4]\n",
      " [234.5]\n",
      " [ 23.8]\n",
      " [ 67.8]\n",
      " [296.4]\n",
      " [141.3]\n",
      " [175.1]\n",
      " [220.5]\n",
      " [ 76.4]\n",
      " [253.8]\n",
      " [191.1]\n",
      " [287.6]\n",
      " [100.4]\n",
      " [228. ]\n",
      " [125.7]\n",
      " [ 74.7]\n",
      " [ 57.5]\n",
      " [262.7]\n",
      " [262.9]\n",
      " [237.4]\n",
      " [227.2]\n",
      " [199.8]\n",
      " [228.3]\n",
      " [290.7]\n",
      " [276.9]\n",
      " [199.8]\n",
      " [239.3]\n",
      " [ 73.4]\n",
      " [284.3]\n",
      " [147.3]\n",
      " [224. ]\n",
      " [198.9]\n",
      " [276.7]\n",
      " [ 13.2]\n",
      " [ 11.7]\n",
      " [280.2]\n",
      " [ 39.5]\n",
      " [265.6]\n",
      " [ 27.5]\n",
      " [280.7]\n",
      " [ 78.2]\n",
      " [163.3]\n",
      " [213.5]\n",
      " [293.6]\n",
      " [ 18.7]\n",
      " [ 75.5]\n",
      " [166.8]\n",
      " [ 44.7]\n",
      " [109.8]\n",
      " [  8.7]\n",
      " [266.9]\n",
      " [206.9]\n",
      " [149.8]\n",
      " [ 19.6]\n",
      " [ 36.9]\n",
      " [199.1]\n",
      " [265.2]\n",
      " [165.6]\n",
      " [140.3]\n",
      " [230.1]\n",
      " [  5.4]\n",
      " [ 17.9]\n",
      " [237.4]\n",
      " [286. ]\n",
      " [ 93.9]\n",
      " [292.9]\n",
      " [ 25. ]\n",
      " [ 97.5]\n",
      " [ 26.8]\n",
      " [281.4]\n",
      " [ 69.2]\n",
      " [ 43.1]\n",
      " [255.4]\n",
      " [239.9]\n",
      " [209.6]\n",
      " [  7.3]\n",
      " [240.1]\n",
      " [102.7]\n",
      " [243.2]\n",
      " [137.9]\n",
      " [ 18.8]\n",
      " [ 17.2]\n",
      " [ 76.4]\n",
      " [139.5]\n",
      " [261.3]\n",
      " [ 66.9]\n",
      " [ 48.3]\n",
      " [177. ]\n",
      " [ 28.6]\n",
      " [180.8]\n",
      " [222.4]\n",
      " [193.7]\n",
      " [ 59.6]\n",
      " [131.7]\n",
      " [  8.4]\n",
      " [ 13.1]\n",
      " [  4.1]\n",
      " [  0.7]\n",
      " [ 76.3]\n",
      " [250.9]\n",
      " [273.7]\n",
      " [ 96.2]\n",
      " [210.8]\n",
      " [ 53.5]\n",
      " [ 90.4]\n",
      " [104.6]\n",
      " [283.6]\n",
      " [ 95.7]\n",
      " [204.1]\n",
      " [ 31.5]\n",
      " [182.6]\n",
      " [289.7]\n",
      " [156.6]\n",
      " [107.4]\n",
      " [ 43. ]\n",
      " [248.4]\n",
      " [116. ]\n",
      " [110.7]\n",
      " [187.9]\n",
      " [139.3]\n",
      " [ 62.3]\n",
      " [  8.6]]\n"
     ]
    }
   ],
   "source": [
    "# Let's now take a look at the train dataset\n",
    "import numpy as np\n",
    "x_train=np.array(X_train).reshape(-1,1)\n",
    "print(x_train)"
   ]
  },
  {
   "cell_type": "code",
   "execution_count": 10,
   "metadata": {},
   "outputs": [
    {
     "name": "stdout",
     "output_type": "stream",
     "text": [
      "[[17. ]\n",
      " [16.5]\n",
      " [22.6]\n",
      " [15. ]\n",
      " [14. ]\n",
      " [11.9]\n",
      " [17.3]\n",
      " [12.9]\n",
      " [ 6.6]\n",
      " [18.4]\n",
      " [13.2]\n",
      " [ 8.5]\n",
      " [10.9]\n",
      " [16.4]\n",
      " [16.7]\n",
      " [18.2]\n",
      " [18.4]\n",
      " [12.6]\n",
      " [18. ]\n",
      " [16.9]\n",
      " [ 9.2]\n",
      " [12.5]\n",
      " [23.8]\n",
      " [15.5]\n",
      " [16.1]\n",
      " [20.1]\n",
      " [ 9.4]\n",
      " [17.6]\n",
      " [17.3]\n",
      " [26.2]\n",
      " [10.7]\n",
      " [21.5]\n",
      " [15.9]\n",
      " [14.7]\n",
      " [11.8]\n",
      " [20.2]\n",
      " [17. ]\n",
      " [17.5]\n",
      " [19.8]\n",
      " [15.6]\n",
      " [20.5]\n",
      " [17.8]\n",
      " [27. ]\n",
      " [16.4]\n",
      " [20.7]\n",
      " [10.9]\n",
      " [20. ]\n",
      " [14.6]\n",
      " [16.6]\n",
      " [23.7]\n",
      " [16.8]\n",
      " [ 5.6]\n",
      " [ 7.3]\n",
      " [19.8]\n",
      " [10.8]\n",
      " [17.4]\n",
      " [ 6.9]\n",
      " [16.1]\n",
      " [14.6]\n",
      " [16.9]\n",
      " [21.7]\n",
      " [20.7]\n",
      " [ 6.7]\n",
      " [11.9]\n",
      " [19.6]\n",
      " [10.1]\n",
      " [12.4]\n",
      " [ 7.2]\n",
      " [25.4]\n",
      " [17.9]\n",
      " [10.1]\n",
      " [ 7.6]\n",
      " [10.8]\n",
      " [18.3]\n",
      " [17.7]\n",
      " [17.6]\n",
      " [10.3]\n",
      " [22.1]\n",
      " [ 5.3]\n",
      " [ 8. ]\n",
      " [18.9]\n",
      " [20.9]\n",
      " [15.3]\n",
      " [21.4]\n",
      " [ 7.2]\n",
      " [13.7]\n",
      " [ 8.8]\n",
      " [24.4]\n",
      " [11.3]\n",
      " [10.1]\n",
      " [19.8]\n",
      " [23.2]\n",
      " [20.9]\n",
      " [ 5.5]\n",
      " [20.9]\n",
      " [14. ]\n",
      " [25.4]\n",
      " [15. ]\n",
      " [ 7. ]\n",
      " [12. ]\n",
      " [11.8]\n",
      " [10.3]\n",
      " [24.2]\n",
      " [ 9.7]\n",
      " [11.6]\n",
      " [14.8]\n",
      " [ 7.3]\n",
      " [17.9]\n",
      " [16.7]\n",
      " [19.2]\n",
      " [ 9.7]\n",
      " [12.9]\n",
      " [ 5.7]\n",
      " [ 5.3]\n",
      " [ 3.2]\n",
      " [ 1.6]\n",
      " [12. ]\n",
      " [22.2]\n",
      " [20.8]\n",
      " [12.3]\n",
      " [23.8]\n",
      " [ 8.1]\n",
      " [12. ]\n",
      " [10.4]\n",
      " [25.5]\n",
      " [11.9]\n",
      " [19. ]\n",
      " [11. ]\n",
      " [21.2]\n",
      " [25.4]\n",
      " [15.5]\n",
      " [11.5]\n",
      " [ 9.6]\n",
      " [20.2]\n",
      " [11. ]\n",
      " [16. ]\n",
      " [19.7]\n",
      " [13.4]\n",
      " [ 9.7]\n",
      " [ 4.8]]\n"
     ]
    }
   ],
   "source": [
    "y_train=np.array(Y_train).reshape(-1,1)\n",
    "print(y_train)"
   ]
  },
  {
   "cell_type": "code",
   "execution_count": 11,
   "metadata": {},
   "outputs": [
    {
     "data": {
      "text/plain": [
       "LinearRegression()"
      ]
     },
     "execution_count": 11,
     "metadata": {},
     "output_type": "execute_result"
    }
   ],
   "source": [
    "from sklearn.linear_model import LinearRegression\n",
    "regressor=LinearRegression()\n",
    "regressor.fit(x_train,y_train)"
   ]
  },
  {
   "cell_type": "code",
   "execution_count": 12,
   "metadata": {},
   "outputs": [
    {
     "name": "stdout",
     "output_type": "stream",
     "text": [
      "[[ 7.37414007]\n",
      " [19.94148154]\n",
      " [14.32326899]\n",
      " [18.82329361]\n",
      " [20.13239168]\n",
      " [18.2287449 ]\n",
      " [14.54145201]\n",
      " [17.72692398]\n",
      " [18.75238413]\n",
      " [18.77420243]\n",
      " [13.34144544]\n",
      " [19.46693349]\n",
      " [10.01415451]\n",
      " [17.1923756 ]\n",
      " [11.70507285]\n",
      " [12.08689312]\n",
      " [15.11418241]\n",
      " [16.23237035]\n",
      " [15.8669138 ]\n",
      " [13.1068987 ]\n",
      " [18.65965635]\n",
      " [14.00690363]\n",
      " [17.60692332]\n",
      " [16.60328147]\n",
      " [17.03419291]\n",
      " [18.96511257]\n",
      " [18.93783969]\n",
      " [11.05597839]\n",
      " [17.03419291]\n",
      " [13.66326538]\n",
      " [10.6796127 ]\n",
      " [10.71234015]\n",
      " [13.5487193 ]\n",
      " [17.22510305]\n",
      " [ 9.67597085]\n",
      " [13.52144643]\n",
      " [12.25053038]\n",
      " [16.13418799]\n",
      " [19.07965865]\n",
      " [17.48692266]\n",
      " [18.69783838]\n",
      " [16.53237199]\n",
      " [15.92145955]\n",
      " [18.86693021]\n",
      " [13.5050827 ]\n",
      " [11.84143724]\n",
      " [ 7.87050642]\n",
      " [20.51966653]\n",
      " [10.79961336]\n",
      " [ 9.03233096]\n",
      " [17.99419817]\n",
      " [16.29237067]\n",
      " [11.04506924]\n",
      " [14.09963141]\n",
      " [18.44147334]\n",
      " [ 9.3759692 ]\n",
      " [ 7.88687015]\n",
      " [ 8.34505447]\n",
      " [17.72692398]\n",
      " [11.62325422]]\n"
     ]
    }
   ],
   "source": [
    "x_test=np.array(X_test).reshape(-1,1)\n",
    "y_test=np.array(Y_test).reshape(-1,1)\n",
    "pred=regressor.predict(x_test)\n",
    "print(pred)"
   ]
  },
  {
   "cell_type": "code",
   "execution_count": 13,
   "metadata": {},
   "outputs": [
    {
     "name": "stdout",
     "output_type": "stream",
     "text": [
      "R-squared value:  0.7921031601245662\n"
     ]
    }
   ],
   "source": [
    "print(\"R-squared value: \",regressor.score(x_test,y_test))"
   ]
  },
  {
   "cell_type": "code",
   "execution_count": 14,
   "metadata": {},
   "outputs": [
    {
     "name": "stdout",
     "output_type": "stream",
     "text": [
      "Residual sum of squares: 244.65\n"
     ]
    }
   ],
   "source": [
    "print(\"Residual sum of squares: %.2f\"%np.sum((regressor.predict(x_test)-(y_test))**2))"
   ]
  },
  {
   "cell_type": "code",
   "execution_count": 15,
   "metadata": {},
   "outputs": [
    {
     "data": {
      "image/png": "[encoded data removed]",
      "text/plain": [
       "<Figure size 432x288 with 1 Axes>"
      ]
     },
     "metadata": {
      "needs_background": "light"
     },
     "output_type": "display_data"
    }
   ],
   "source": [
    "plt.scatter(x_test,y_test,color='r')\n",
    "plt.plot(x_test,regressor.predict(x_test),color='b')\n",
    "plt.ylabel('Sales')\n",
    "plt.xlabel('TV')\n",
    "plt.show()"
   ]
  },
  {
   "cell_type": "code",
   "execution_count": 16,
   "metadata": {},
   "outputs": [],
   "source": [
    "# From this graph we can understand how a Avertisment depend for sales of product TV"
   ]
  }
 ],
 "metadata": {
  "kernelspec": {
   "display_name": "Python 3",
   "language": "python",
   "name": "python3"
  },
  "language_info": {
   "codemirror_mode": {
    "name": "ipython",
    "version": 3
   },
   "file_extension": ".py",
   "mimetype": "text/x-python",
   "name": "python",
   "nbconvert_exporter": "python",
   "pygments_lexer": "ipython3",
   "version": "3.8.3"
  }
 },
 "nbformat": 4,
 "nbformat_minor": 4
}
